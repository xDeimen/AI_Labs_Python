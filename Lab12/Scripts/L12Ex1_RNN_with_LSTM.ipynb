{
  "nbformat": 4,
  "nbformat_minor": 0,
  "metadata": {
    "colab": {
      "provenance": []
    },
    "kernelspec": {
      "name": "python3",
      "display_name": "Python 3"
    },
    "language_info": {
      "name": "python"
    }
  },
  "cells": [
    {
      "cell_type": "code",
      "execution_count": null,
      "metadata": {
        "colab": {
          "base_uri": "https://localhost:8080/"
        },
        "id": "VbIBglnQEuw8",
        "outputId": "8dd59133-b51e-4bcf-a250-a5dabd5f3f27"
      },
      "outputs": [
        {
          "output_type": "stream",
          "name": "stdout",
          "text": [
            "Capul de tabel in format csv\n",
            "          Date        Open        High         Low       Close   Adj Close  \\\n",
            "0  2018-05-23  182.500000  186.910004  182.179993  186.899994  186.899994   \n",
            "1  2018-05-24  185.880005  186.800003  185.029999  185.929993  185.929993   \n",
            "2  2018-05-25  186.020004  186.330002  184.449997  184.919998  184.919998   \n",
            "3  2018-05-29  184.339996  186.809998  183.710007  185.740005  185.740005   \n",
            "4  2018-05-30  186.539993  188.000000  185.250000  187.669998  187.669998   \n",
            "\n",
            "     Volume  \n",
            "0  16628100  \n",
            "1  12354700  \n",
            "2  10965100  \n",
            "3  16398900  \n",
            "4  13736900  \n",
            "Marime set de date - numar de linii\n",
            " 252\n",
            "Setul de date transformat in array\n",
            " [182.5      185.880005 186.020004 184.339996 186.539993 187.869995\n",
            " 193.070007 191.839996 194.300003 191.029999 190.75     187.529999\n",
            " 188.809998 192.169998 192.740005 193.100006 195.789993 194.800003\n",
            " 196.240005 199.100006 202.759995 201.160004 200.       197.600006\n",
            " 199.179993 195.179993 197.320007 193.369995 194.550003 194.740005\n",
            " 198.449997 204.929993 204.5      202.220001 203.429993 207.809998\n",
            " 207.5      204.899994 209.820007 208.770004 208.850006 210.580002\n",
            " 215.110001 215.720001 174.889999 179.869995 175.300003 170.669998\n",
            " 173.929993 170.679993 177.690002 178.970001 186.5      184.75\n",
            " 185.850006 182.039993 180.100006 180.710007 179.339996 180.419998\n",
            " 174.5      174.039993 172.809998 172.210007 173.089996 173.699997\n",
            " 175.990005 178.100006 176.300003 175.899994 177.149994 173.5\n",
            " 169.490005 166.979996 160.309998 163.509995 163.940002 163.25\n",
            " 162.       161.720001 161.919998 159.389999 160.080002 164.5\n",
            " 166.639999 161.029999 161.990005 164.300003 167.550003 168.330002\n",
            " 163.029999 161.580002 160.       161.460007 159.210007 155.539993\n",
            " 157.690002 156.820007 150.130005 156.729996 153.320007 155.399994\n",
            " 159.559998 158.509995 155.860001 154.759995 151.220001 154.279999\n",
            " 147.729996 145.820007 148.5      139.940002 155.       151.520004\n",
            " 151.800003 150.100006 149.309998 151.570007 150.490005 146.75\n",
            " 144.479996 142.       143.699997 142.330002 141.070007 137.610001\n",
            " 127.029999 134.399994 133.649994 133.       135.75     136.279999\n",
            " 135.919998 138.259995 143.       140.729996 133.820007 139.25\n",
            " 139.600006 143.880005 143.080002 145.570007 143.339996 143.080002\n",
            " 141.080002 141.210007 130.699997 133.389999 123.099998 126.\n",
            " 132.440002 135.339996 134.449997 128.990005 134.690002 134.009995\n",
            " 137.559998 139.889999 142.949997 143.080002 143.149994 142.\n",
            " 146.009995 149.       146.949997 149.75     149.199997 148.279999\n",
            " 144.639999 147.479996 148.050003 148.089996 146.220001 165.600006\n",
            " 165.839996 165.699997 169.149994 171.199997 168.199997 164.470001\n",
            " 167.899994 166.860001 165.380005 163.190002 164.509995 160.5\n",
            " 162.25     161.929993 160.580002 163.070007 164.339996 162.899994\n",
            " 162.369995 162.600006 163.899994 167.369995 172.899994 171.5\n",
            " 166.199997 171.600006 172.089996 172.320007 169.759995 167.160004\n",
            " 163.570007 161.479996 161.5      164.889999 165.649994 163.\n",
            " 167.350006 167.850006 164.570007 166.389999 167.830002 170.139999\n",
            " 174.5      176.020004 176.880005 175.210007 175.619995 178.179993\n",
            " 178.240005 178.       178.5      179.       179.600006 178.800003\n",
            " 178.25     182.740005 184.490005 196.979996 192.5      190.949997\n",
            " 194.190002 194.779999 193.       194.380005 191.240005 192.539993\n",
            " 189.389999 187.199997 188.25     183.5      182.520004 180.419998\n",
            " 185.050003 184.839996 181.880005 184.570007 184.729996 182.419998]\n",
            "Marime array - numar de elemente vector\n",
            " 252\n"
          ]
        }
      ],
      "source": [
        "import numpy as np\n",
        "import pandas as pd\n",
        "import matplotlib.pyplot as plt\n",
        "\n",
        "training_data = pd.read_csv(r'FB.csv')\n",
        "print(\"Capul de tabel in format csv\\n\", training_data.head())\n",
        "print(\"Marime set de date - numar de linii\\n\", len(training_data))\n",
        "\n",
        "training_data = training_data.iloc[:,1].values\n",
        "print(\"Setul de date transformat in array\\n\", training_data)\n",
        "print(\"Marime array - numar de elemente vector\\n\", len(training_data))\n",
        "\n"
      ]
    },
    {
      "cell_type": "code",
      "source": [
        "from google.colab import drive\n",
        "drive.mount('/content/drive')"
      ],
      "metadata": {
        "id": "KUgfGI883Bni",
        "colab": {
          "base_uri": "https://localhost:8080/",
          "height": 345
        },
        "outputId": "d654dca9-af75-4230-f6b9-934c84e50b6b"
      },
      "execution_count": null,
      "outputs": [
        {
          "output_type": "error",
          "ename": "MessageError",
          "evalue": "ignored",
          "traceback": [
            "\u001b[0;31m---------------------------------------------------------------------------\u001b[0m",
            "\u001b[0;31mMessageError\u001b[0m                              Traceback (most recent call last)",
            "\u001b[0;32m<ipython-input-9-d5df0069828e>\u001b[0m in \u001b[0;36m<cell line: 2>\u001b[0;34m()\u001b[0m\n\u001b[1;32m      1\u001b[0m \u001b[0;32mfrom\u001b[0m \u001b[0mgoogle\u001b[0m\u001b[0;34m.\u001b[0m\u001b[0mcolab\u001b[0m \u001b[0;32mimport\u001b[0m \u001b[0mdrive\u001b[0m\u001b[0;34m\u001b[0m\u001b[0;34m\u001b[0m\u001b[0m\n\u001b[0;32m----> 2\u001b[0;31m \u001b[0mdrive\u001b[0m\u001b[0;34m.\u001b[0m\u001b[0mmount\u001b[0m\u001b[0;34m(\u001b[0m\u001b[0;34m'/content/drive'\u001b[0m\u001b[0;34m)\u001b[0m\u001b[0;34m\u001b[0m\u001b[0;34m\u001b[0m\u001b[0m\n\u001b[0m",
            "\u001b[0;32m/usr/local/lib/python3.10/dist-packages/google/colab/drive.py\u001b[0m in \u001b[0;36mmount\u001b[0;34m(mountpoint, force_remount, timeout_ms, readonly)\u001b[0m\n\u001b[1;32m    101\u001b[0m \u001b[0;32mdef\u001b[0m \u001b[0mmount\u001b[0m\u001b[0;34m(\u001b[0m\u001b[0mmountpoint\u001b[0m\u001b[0;34m,\u001b[0m \u001b[0mforce_remount\u001b[0m\u001b[0;34m=\u001b[0m\u001b[0;32mFalse\u001b[0m\u001b[0;34m,\u001b[0m \u001b[0mtimeout_ms\u001b[0m\u001b[0;34m=\u001b[0m\u001b[0;36m120000\u001b[0m\u001b[0;34m,\u001b[0m \u001b[0mreadonly\u001b[0m\u001b[0;34m=\u001b[0m\u001b[0;32mFalse\u001b[0m\u001b[0;34m)\u001b[0m\u001b[0;34m:\u001b[0m\u001b[0;34m\u001b[0m\u001b[0;34m\u001b[0m\u001b[0m\n\u001b[1;32m    102\u001b[0m   \u001b[0;34m\"\"\"Mount your Google Drive at the specified mountpoint path.\"\"\"\u001b[0m\u001b[0;34m\u001b[0m\u001b[0;34m\u001b[0m\u001b[0m\n\u001b[0;32m--> 103\u001b[0;31m   return _mount(\n\u001b[0m\u001b[1;32m    104\u001b[0m       \u001b[0mmountpoint\u001b[0m\u001b[0;34m,\u001b[0m\u001b[0;34m\u001b[0m\u001b[0;34m\u001b[0m\u001b[0m\n\u001b[1;32m    105\u001b[0m       \u001b[0mforce_remount\u001b[0m\u001b[0;34m=\u001b[0m\u001b[0mforce_remount\u001b[0m\u001b[0;34m,\u001b[0m\u001b[0;34m\u001b[0m\u001b[0;34m\u001b[0m\u001b[0m\n",
            "\u001b[0;32m/usr/local/lib/python3.10/dist-packages/google/colab/drive.py\u001b[0m in \u001b[0;36m_mount\u001b[0;34m(mountpoint, force_remount, timeout_ms, ephemeral, readonly)\u001b[0m\n\u001b[1;32m    130\u001b[0m   )\n\u001b[1;32m    131\u001b[0m   \u001b[0;32mif\u001b[0m \u001b[0mephemeral\u001b[0m\u001b[0;34m:\u001b[0m\u001b[0;34m\u001b[0m\u001b[0;34m\u001b[0m\u001b[0m\n\u001b[0;32m--> 132\u001b[0;31m     _message.blocking_request(\n\u001b[0m\u001b[1;32m    133\u001b[0m         \u001b[0;34m'request_auth'\u001b[0m\u001b[0;34m,\u001b[0m \u001b[0mrequest\u001b[0m\u001b[0;34m=\u001b[0m\u001b[0;34m{\u001b[0m\u001b[0;34m'authType'\u001b[0m\u001b[0;34m:\u001b[0m \u001b[0;34m'dfs_ephemeral'\u001b[0m\u001b[0;34m}\u001b[0m\u001b[0;34m,\u001b[0m \u001b[0mtimeout_sec\u001b[0m\u001b[0;34m=\u001b[0m\u001b[0;32mNone\u001b[0m\u001b[0;34m\u001b[0m\u001b[0;34m\u001b[0m\u001b[0m\n\u001b[1;32m    134\u001b[0m     )\n",
            "\u001b[0;32m/usr/local/lib/python3.10/dist-packages/google/colab/_message.py\u001b[0m in \u001b[0;36mblocking_request\u001b[0;34m(request_type, request, timeout_sec, parent)\u001b[0m\n\u001b[1;32m    174\u001b[0m       \u001b[0mrequest_type\u001b[0m\u001b[0;34m,\u001b[0m \u001b[0mrequest\u001b[0m\u001b[0;34m,\u001b[0m \u001b[0mparent\u001b[0m\u001b[0;34m=\u001b[0m\u001b[0mparent\u001b[0m\u001b[0;34m,\u001b[0m \u001b[0mexpect_reply\u001b[0m\u001b[0;34m=\u001b[0m\u001b[0;32mTrue\u001b[0m\u001b[0;34m\u001b[0m\u001b[0;34m\u001b[0m\u001b[0m\n\u001b[1;32m    175\u001b[0m   )\n\u001b[0;32m--> 176\u001b[0;31m   \u001b[0;32mreturn\u001b[0m \u001b[0mread_reply_from_input\u001b[0m\u001b[0;34m(\u001b[0m\u001b[0mrequest_id\u001b[0m\u001b[0;34m,\u001b[0m \u001b[0mtimeout_sec\u001b[0m\u001b[0;34m)\u001b[0m\u001b[0;34m\u001b[0m\u001b[0;34m\u001b[0m\u001b[0m\n\u001b[0m",
            "\u001b[0;32m/usr/local/lib/python3.10/dist-packages/google/colab/_message.py\u001b[0m in \u001b[0;36mread_reply_from_input\u001b[0;34m(message_id, timeout_sec)\u001b[0m\n\u001b[1;32m    101\u001b[0m     ):\n\u001b[1;32m    102\u001b[0m       \u001b[0;32mif\u001b[0m \u001b[0;34m'error'\u001b[0m \u001b[0;32min\u001b[0m \u001b[0mreply\u001b[0m\u001b[0;34m:\u001b[0m\u001b[0;34m\u001b[0m\u001b[0;34m\u001b[0m\u001b[0m\n\u001b[0;32m--> 103\u001b[0;31m         \u001b[0;32mraise\u001b[0m \u001b[0mMessageError\u001b[0m\u001b[0;34m(\u001b[0m\u001b[0mreply\u001b[0m\u001b[0;34m[\u001b[0m\u001b[0;34m'error'\u001b[0m\u001b[0;34m]\u001b[0m\u001b[0;34m)\u001b[0m\u001b[0;34m\u001b[0m\u001b[0;34m\u001b[0m\u001b[0m\n\u001b[0m\u001b[1;32m    104\u001b[0m       \u001b[0;32mreturn\u001b[0m \u001b[0mreply\u001b[0m\u001b[0;34m.\u001b[0m\u001b[0mget\u001b[0m\u001b[0;34m(\u001b[0m\u001b[0;34m'data'\u001b[0m\u001b[0;34m,\u001b[0m \u001b[0;32mNone\u001b[0m\u001b[0;34m)\u001b[0m\u001b[0;34m\u001b[0m\u001b[0;34m\u001b[0m\u001b[0m\n\u001b[1;32m    105\u001b[0m \u001b[0;34m\u001b[0m\u001b[0m\n",
            "\u001b[0;31mMessageError\u001b[0m: Error: credential propagation was unsuccessful"
          ]
        }
      ]
    },
    {
      "cell_type": "code",
      "source": [
        "from sklearn.preprocessing import MinMaxScaler\n",
        "\n",
        "#scaler = normalizare\n",
        "scaler = MinMaxScaler()\n",
        "training_data = scaler.fit_transform(training_data.reshape(-1, 1))\n",
        "\n",
        "x_training_data = []\n",
        "y_training_data = []\n",
        "\n",
        "for i in range(40, len(training_data)):\n",
        "  x_training_data.append(training_data[i-40:i, 0])\n",
        "  y_training_data.append(training_data[i, 0])\n",
        "\n",
        "print(len(x_training_data), len(y_training_data))\n",
        "print(type(x_training_data))\n",
        "print(x_training_data[0], \"\\n\")\n",
        "print(y_training_data[0], \"\\n\")\n"
      ],
      "metadata": {
        "colab": {
          "base_uri": "https://localhost:8080/"
        },
        "id": "bgpONforF8b2",
        "outputId": "f133f4ca-c444-4a24-a88b-6241ad293c93"
      },
      "execution_count": null,
      "outputs": [
        {
          "output_type": "stream",
          "name": "stdout",
          "text": [
            "212 212\n",
            "<class 'list'>\n",
            "[0.64133017 0.67782342 0.67933496 0.66119624 0.68494918 0.69930895\n",
            " 0.75545246 0.74217227 0.76873248 0.73342689 0.7304038  0.69563808\n",
            " 0.70945798 0.74573524 0.75188949 0.75577635 0.78481961 0.77413089\n",
            " 0.78967831 0.82055717 0.86007336 0.84279857 0.83027423 0.80436197\n",
            " 0.82142078 0.77823356 0.80133887 0.75869137 0.77143169 0.7734831\n",
            " 0.81353916 0.8835024  0.87885985 0.85424315 0.86730719 0.91459725\n",
            " 0.91125026 0.88317851 0.93629892 0.92496225] \n",
            "\n",
            "0.9258260119037138 \n",
            "\n"
          ]
        }
      ]
    },
    {
      "cell_type": "code",
      "source": [
        "#Transofmr listele in numpy arrays\n",
        "x_training_data = np.array(x_training_data)\n",
        "y_training_data = np.array(y_training_data)\n",
        "\n",
        "#Verificam forma numpy arrays\n",
        "print(x_training_data.shape)\n",
        "print(y_training_data.shape)\n",
        "\n",
        "#Facem teshaping Numpy array pentru a fi aliniat cu Tensor flow\n",
        "\n",
        "x_training_data = np.reshape(x_training_data, (x_training_data.shape[0], \n",
        "                                               x_training_data.shape[1], \n",
        "                                               1))\n",
        "\n",
        "print(x_training_data.shape)\n"
      ],
      "metadata": {
        "colab": {
          "base_uri": "https://localhost:8080/"
        },
        "id": "anA8rGXiN2fA",
        "outputId": "272306b6-9ec4-430d-ecee-ce074d377ac3"
      },
      "execution_count": null,
      "outputs": [
        {
          "output_type": "stream",
          "name": "stdout",
          "text": [
            "(212, 40)\n",
            "(212,)\n",
            "(212, 40, 1)\n"
          ]
        }
      ]
    },
    {
      "cell_type": "code",
      "source": [
        "from tensorflow.keras.models import Sequential\n",
        "from tensorflow.keras.layers import Dense\n",
        "from tensorflow.keras.layers import LSTM\n",
        "from tensorflow.keras.layers import Dropout\n",
        "\n",
        "#initializam RNN\n",
        "rnn = Sequential()\n",
        "\n",
        "#adaugam primul start LSTM\n",
        "rnn.add(LSTM(units = 45, return_sequences = True, input_shape = (x_training_data.shape[1], 1 )))\n",
        "\n",
        "#facem o regularizare dropout\n",
        "rnn.add(Dropout(0.2))\n",
        "\n",
        "#Adaugam inca 3 straturi LSTM cu regularizare\n",
        "for i in [True, True, False]:\n",
        "  rnn.add(LSTM(units = 45, return_sequences = i))\n",
        "  rnn.add(Dropout(0.2))\n",
        "\n",
        "#Adaugam stratul de iesire\n",
        "rnn.add(Dense(units = 1))\n"
      ],
      "metadata": {
        "id": "SXceekxbLdWP"
      },
      "execution_count": null,
      "outputs": []
    },
    {
      "cell_type": "code",
      "source": [
        "#Compilam RNN\n",
        "rnn.compile(optimizer = 'adam', loss = 'mean_squared_error')\n",
        "#Antrenam RNN\n",
        "rnn.fit(x_training_data, y_training_data, epochs = 100, batch_size = 32)\n",
        "\n",
        "#importam setul de date de testare si le transformam in Numpy array\n",
        "test_data = pd.read_csv(\"FB.csv\")\n",
        "test_data = test_data.iloc[:, 1].values\n",
        "\n",
        "#Verificam forma setului\n",
        "print(test_data.shape)\n",
        "plt.plot(test_data)"
      ],
      "metadata": {
        "colab": {
          "base_uri": "https://localhost:8080/",
          "height": 1000
        },
        "id": "I2Eau9vKMahD",
        "outputId": "4017e439-54f0-4cd8-cb9b-89852dd38bcf"
      },
      "execution_count": null,
      "outputs": [
        {
          "output_type": "stream",
          "name": "stdout",
          "text": [
            "Epoch 1/100\n",
            "7/7 [==============================] - 12s 94ms/step - loss: 0.1106\n",
            "Epoch 2/100\n",
            "7/7 [==============================] - 1s 93ms/step - loss: 0.0294\n",
            "Epoch 3/100\n",
            "7/7 [==============================] - 1s 94ms/step - loss: 0.0232\n",
            "Epoch 4/100\n",
            "7/7 [==============================] - 1s 160ms/step - loss: 0.0194\n",
            "Epoch 5/100\n",
            "7/7 [==============================] - 1s 158ms/step - loss: 0.0175\n",
            "Epoch 6/100\n",
            "7/7 [==============================] - 1s 163ms/step - loss: 0.0167\n",
            "Epoch 7/100\n",
            "7/7 [==============================] - 1s 165ms/step - loss: 0.0146\n",
            "Epoch 8/100\n",
            "7/7 [==============================] - 1s 125ms/step - loss: 0.0150\n",
            "Epoch 9/100\n",
            "7/7 [==============================] - 1s 97ms/step - loss: 0.0146\n",
            "Epoch 10/100\n",
            "7/7 [==============================] - 1s 99ms/step - loss: 0.0143\n",
            "Epoch 11/100\n",
            "7/7 [==============================] - 1s 94ms/step - loss: 0.0144\n",
            "Epoch 12/100\n",
            "7/7 [==============================] - 1s 93ms/step - loss: 0.0120\n",
            "Epoch 13/100\n",
            "7/7 [==============================] - 1s 96ms/step - loss: 0.0116\n",
            "Epoch 14/100\n",
            "7/7 [==============================] - 1s 107ms/step - loss: 0.0130\n",
            "Epoch 15/100\n",
            "7/7 [==============================] - 1s 163ms/step - loss: 0.0116\n",
            "Epoch 16/100\n",
            "7/7 [==============================] - 1s 153ms/step - loss: 0.0139\n",
            "Epoch 17/100\n",
            "7/7 [==============================] - 1s 167ms/step - loss: 0.0122\n",
            "Epoch 18/100\n",
            "7/7 [==============================] - 1s 166ms/step - loss: 0.0124\n",
            "Epoch 19/100\n",
            "7/7 [==============================] - 1s 100ms/step - loss: 0.0125\n",
            "Epoch 20/100\n",
            "7/7 [==============================] - 1s 167ms/step - loss: 0.0104\n",
            "Epoch 21/100\n",
            "7/7 [==============================] - 1s 163ms/step - loss: 0.0113\n",
            "Epoch 22/100\n",
            "7/7 [==============================] - 1s 170ms/step - loss: 0.0104\n",
            "Epoch 23/100\n",
            "7/7 [==============================] - 1s 165ms/step - loss: 0.0127\n",
            "Epoch 24/100\n",
            "7/7 [==============================] - 1s 122ms/step - loss: 0.0094\n",
            "Epoch 25/100\n",
            "7/7 [==============================] - 1s 100ms/step - loss: 0.0116\n",
            "Epoch 26/100\n",
            "7/7 [==============================] - 1s 143ms/step - loss: 0.0119\n",
            "Epoch 27/100\n",
            "7/7 [==============================] - 1s 202ms/step - loss: 0.0094\n",
            "Epoch 28/100\n",
            "7/7 [==============================] - 1s 192ms/step - loss: 0.0104\n",
            "Epoch 29/100\n",
            "7/7 [==============================] - 2s 233ms/step - loss: 0.0112\n",
            "Epoch 30/100\n",
            "7/7 [==============================] - 1s 194ms/step - loss: 0.0122\n",
            "Epoch 31/100\n",
            "7/7 [==============================] - 1s 203ms/step - loss: 0.0112\n",
            "Epoch 32/100\n",
            "7/7 [==============================] - 1s 211ms/step - loss: 0.0115\n",
            "Epoch 33/100\n",
            "7/7 [==============================] - 1s 178ms/step - loss: 0.0110\n",
            "Epoch 34/100\n",
            "7/7 [==============================] - 1s 167ms/step - loss: 0.0090\n",
            "Epoch 35/100\n",
            "7/7 [==============================] - 1s 169ms/step - loss: 0.0103\n",
            "Epoch 36/100\n",
            "7/7 [==============================] - 1s 131ms/step - loss: 0.0124\n",
            "Epoch 37/100\n",
            "7/7 [==============================] - 1s 98ms/step - loss: 0.0128\n",
            "Epoch 38/100\n",
            "7/7 [==============================] - 1s 97ms/step - loss: 0.0113\n",
            "Epoch 39/100\n",
            "7/7 [==============================] - 1s 101ms/step - loss: 0.0128\n",
            "Epoch 40/100\n",
            "7/7 [==============================] - 1s 107ms/step - loss: 0.0110\n",
            "Epoch 41/100\n",
            "7/7 [==============================] - 1s 98ms/step - loss: 0.0105\n",
            "Epoch 42/100\n",
            "7/7 [==============================] - 1s 94ms/step - loss: 0.0102\n",
            "Epoch 43/100\n",
            "7/7 [==============================] - 1s 100ms/step - loss: 0.0103\n",
            "Epoch 44/100\n",
            "7/7 [==============================] - 1s 99ms/step - loss: 0.0109\n",
            "Epoch 45/100\n",
            "7/7 [==============================] - 1s 95ms/step - loss: 0.0101\n",
            "Epoch 46/100\n",
            "7/7 [==============================] - 1s 104ms/step - loss: 0.0096\n",
            "Epoch 47/100\n",
            "7/7 [==============================] - 1s 97ms/step - loss: 0.0094\n",
            "Epoch 48/100\n",
            "7/7 [==============================] - 1s 98ms/step - loss: 0.0112\n",
            "Epoch 49/100\n",
            "7/7 [==============================] - 1s 102ms/step - loss: 0.0102\n",
            "Epoch 50/100\n",
            "7/7 [==============================] - 1s 109ms/step - loss: 0.0086\n",
            "Epoch 51/100\n",
            "7/7 [==============================] - 1s 173ms/step - loss: 0.0092\n",
            "Epoch 52/100\n",
            "7/7 [==============================] - 1s 175ms/step - loss: 0.0107\n",
            "Epoch 53/100\n",
            "7/7 [==============================] - 1s 179ms/step - loss: 0.0098\n",
            "Epoch 54/100\n",
            "7/7 [==============================] - 1s 180ms/step - loss: 0.0099\n",
            "Epoch 55/100\n",
            "7/7 [==============================] - 1s 106ms/step - loss: 0.0098\n",
            "Epoch 56/100\n",
            "7/7 [==============================] - 1s 102ms/step - loss: 0.0092\n",
            "Epoch 57/100\n",
            "7/7 [==============================] - 1s 108ms/step - loss: 0.0101\n",
            "Epoch 58/100\n",
            "7/7 [==============================] - 1s 102ms/step - loss: 0.0096\n",
            "Epoch 59/100\n",
            "7/7 [==============================] - 1s 120ms/step - loss: 0.0096\n",
            "Epoch 60/100\n",
            "7/7 [==============================] - 1s 104ms/step - loss: 0.0106\n",
            "Epoch 61/100\n",
            "7/7 [==============================] - 1s 102ms/step - loss: 0.0089\n",
            "Epoch 62/100\n",
            "7/7 [==============================] - 1s 106ms/step - loss: 0.0100\n",
            "Epoch 63/100\n",
            "7/7 [==============================] - 1s 96ms/step - loss: 0.0087\n",
            "Epoch 64/100\n",
            "7/7 [==============================] - 1s 94ms/step - loss: 0.0087\n",
            "Epoch 65/100\n",
            "7/7 [==============================] - 1s 94ms/step - loss: 0.0102\n",
            "Epoch 66/100\n",
            "7/7 [==============================] - 1s 100ms/step - loss: 0.0094\n",
            "Epoch 67/100\n",
            "7/7 [==============================] - 1s 105ms/step - loss: 0.0087\n",
            "Epoch 68/100\n",
            "7/7 [==============================] - 1s 107ms/step - loss: 0.0098\n",
            "Epoch 69/100\n",
            "7/7 [==============================] - 1s 162ms/step - loss: 0.0102\n",
            "Epoch 70/100\n",
            "7/7 [==============================] - 1s 169ms/step - loss: 0.0088\n",
            "Epoch 71/100\n",
            "7/7 [==============================] - 1s 174ms/step - loss: 0.0092\n",
            "Epoch 72/100\n",
            "7/7 [==============================] - 1s 177ms/step - loss: 0.0094\n",
            "Epoch 73/100\n",
            "7/7 [==============================] - 1s 107ms/step - loss: 0.0100\n",
            "Epoch 74/100\n",
            "7/7 [==============================] - 1s 101ms/step - loss: 0.0112\n",
            "Epoch 75/100\n",
            "7/7 [==============================] - 1s 101ms/step - loss: 0.0095\n",
            "Epoch 76/100\n",
            "7/7 [==============================] - 1s 96ms/step - loss: 0.0099\n",
            "Epoch 77/100\n",
            "7/7 [==============================] - 1s 98ms/step - loss: 0.0100\n",
            "Epoch 78/100\n",
            "7/7 [==============================] - 1s 98ms/step - loss: 0.0096\n",
            "Epoch 79/100\n",
            "7/7 [==============================] - 1s 94ms/step - loss: 0.0079\n",
            "Epoch 80/100\n",
            "7/7 [==============================] - 1s 97ms/step - loss: 0.0087\n",
            "Epoch 81/100\n",
            "7/7 [==============================] - 1s 105ms/step - loss: 0.0092\n",
            "Epoch 82/100\n",
            "7/7 [==============================] - 1s 111ms/step - loss: 0.0091\n",
            "Epoch 83/100\n",
            "7/7 [==============================] - 1s 96ms/step - loss: 0.0080\n",
            "Epoch 84/100\n",
            "7/7 [==============================] - 1s 96ms/step - loss: 0.0091\n",
            "Epoch 85/100\n",
            "7/7 [==============================] - 1s 99ms/step - loss: 0.0082\n",
            "Epoch 86/100\n",
            "7/7 [==============================] - 1s 94ms/step - loss: 0.0099\n",
            "Epoch 87/100\n",
            "7/7 [==============================] - 1s 156ms/step - loss: 0.0083\n",
            "Epoch 88/100\n",
            "7/7 [==============================] - 1s 154ms/step - loss: 0.0084\n",
            "Epoch 89/100\n",
            "7/7 [==============================] - 1s 168ms/step - loss: 0.0087\n",
            "Epoch 90/100\n",
            "7/7 [==============================] - 1s 167ms/step - loss: 0.0087\n",
            "Epoch 91/100\n",
            "7/7 [==============================] - 1s 139ms/step - loss: 0.0088\n",
            "Epoch 92/100\n",
            "7/7 [==============================] - 1s 95ms/step - loss: 0.0084\n",
            "Epoch 93/100\n",
            "7/7 [==============================] - 1s 96ms/step - loss: 0.0087\n",
            "Epoch 94/100\n",
            "7/7 [==============================] - 1s 97ms/step - loss: 0.0086\n",
            "Epoch 95/100\n",
            "7/7 [==============================] - 1s 100ms/step - loss: 0.0080\n",
            "Epoch 96/100\n",
            "7/7 [==============================] - 1s 101ms/step - loss: 0.0094\n",
            "Epoch 97/100\n",
            "7/7 [==============================] - 1s 100ms/step - loss: 0.0090\n",
            "Epoch 98/100\n",
            "7/7 [==============================] - 1s 93ms/step - loss: 0.0081\n",
            "Epoch 99/100\n",
            "7/7 [==============================] - 1s 99ms/step - loss: 0.0089\n",
            "Epoch 100/100\n",
            "7/7 [==============================] - 1s 96ms/step - loss: 0.0091\n",
            "(252,)\n"
          ]
        },
        {
          "output_type": "execute_result",
          "data": {
            "text/plain": [
              "[<matplotlib.lines.Line2D at 0x7fe755b25a50>]"
            ]
          },
          "metadata": {},
          "execution_count": 13
        },
        {
          "output_type": "display_data",
          "data": {
            "text/plain": [
              "<Figure size 640x480 with 1 Axes>"
            ],
            "image/png": "[encoded data removed]"
          },
          "metadata": {}
        }
      ]
    },
    {
      "cell_type": "code",
      "source": [],
      "metadata": {
        "id": "WfbRZGNiUMBB"
      },
      "execution_count": null,
      "outputs": []
    },
    {
      "cell_type": "code",
      "source": [
        "#cream date de antrenare si testare nescalate( nenormalizate)\n",
        "unscaled_training_data = pd.read_csv('FB.csv')\n",
        "unscaled_test_data = pd.read_csv('FB_test_data (1).csv')\n",
        "\n",
        "#Concatenam seturile pe coloana \"Open\"\n",
        "all_data = pd.concat((unscaled_training_data['Open'], unscaled_test_data['Open']), axis = 0)\n",
        "print(all_data.shape)\n",
        "#Cream x_test_data cu fiecare zi din luna Ian +40 de zile inainte\n",
        "x_test_data = all_data[len(all_data) - len(test_data) - 40:].values\n",
        "x_test_data = np.reshape(x_test_data, (-1, 1))\n",
        "\n",
        "print(x_test_data.shape)\n",
        "#Scalare set de date\n",
        "x_test_data = scaler.transform(x_test_data)\n",
        "print(x_test_data[0])"
      ],
      "metadata": {
        "id": "wwLMzfIbQ0ZL",
        "colab": {
          "base_uri": "https://localhost:8080/"
        },
        "outputId": "290b8971-e247-47de-9e40-dd057dcf7461"
      },
      "execution_count": null,
      "outputs": [
        {
          "output_type": "stream",
          "name": "stdout",
          "text": [
            "(273,)\n",
            "(19, 1)\n",
            "[0.90261279]\n"
          ]
        }
      ]
    },
    {
      "cell_type": "code",
      "source": [
        "#Groupam datele de testare \n",
        "final_x_test_data = []\n",
        "for i in range(40, len(x_test_data)):\n",
        "  final_x_test_data.append(x_test_data[i-40:i, 0])\n",
        "print(final_x_test_data[0])\n",
        "final_x_test_data = np.array(final_x_test_data)\n",
        "print(\"Ca Numpy array\\n\", final_x_test_data[0])\n",
        "#Reformare NumPy array pentru Tensor Flow\n",
        "final_x_test_data = np.reshape(final_x_test_data, (final_x_test_data.shape[0],\n",
        "                                                   final_x_test_data.shape[1],\n",
        "                                                   1))\n",
        "\n",
        "print(final_x_test_data.shape)\n",
        "print(type(final_x_test_data))"
      ],
      "metadata": {
        "id": "7tzEBVCqPLjV",
        "colab": {
          "base_uri": "https://localhost:8080/",
          "height": 235
        },
        "outputId": "1d0c5487-90da-4c3b-a43f-9c594fbc28fe"
      },
      "execution_count": null,
      "outputs": [
        {
          "output_type": "error",
          "ename": "IndexError",
          "evalue": "ignored",
          "traceback": [
            "\u001b[0;31m---------------------------------------------------------------------------\u001b[0m",
            "\u001b[0;31mIndexError\u001b[0m                                Traceback (most recent call last)",
            "\u001b[0;32m<ipython-input-18-29866e018ef7>\u001b[0m in \u001b[0;36m<cell line: 7>\u001b[0;34m()\u001b[0m\n\u001b[1;32m      5\u001b[0m \u001b[0;31m#print(final_x_test_data[0])\u001b[0m\u001b[0;34m\u001b[0m\u001b[0;34m\u001b[0m\u001b[0m\n\u001b[1;32m      6\u001b[0m \u001b[0mfinal_x_test_data\u001b[0m \u001b[0;34m=\u001b[0m \u001b[0mnp\u001b[0m\u001b[0;34m.\u001b[0m\u001b[0marray\u001b[0m\u001b[0;34m(\u001b[0m\u001b[0mfinal_x_test_data\u001b[0m\u001b[0;34m)\u001b[0m\u001b[0;34m\u001b[0m\u001b[0;34m\u001b[0m\u001b[0m\n\u001b[0;32m----> 7\u001b[0;31m \u001b[0mprint\u001b[0m\u001b[0;34m(\u001b[0m\u001b[0;34m\"Ca Numpy array\\n\"\u001b[0m\u001b[0;34m,\u001b[0m \u001b[0mfinal_x_test_data\u001b[0m\u001b[0;34m[\u001b[0m\u001b[0;36m0\u001b[0m\u001b[0;34m]\u001b[0m\u001b[0;34m)\u001b[0m\u001b[0;34m\u001b[0m\u001b[0;34m\u001b[0m\u001b[0m\n\u001b[0m\u001b[1;32m      8\u001b[0m \u001b[0;31m#Reformare NumPy array pentru Tensor Flow\u001b[0m\u001b[0;34m\u001b[0m\u001b[0;34m\u001b[0m\u001b[0m\n\u001b[1;32m      9\u001b[0m final_x_test_data = np.reshape(final_x_test_data, (final_x_test_data.shape[0],\n",
            "\u001b[0;31mIndexError\u001b[0m: index 0 is out of bounds for axis 0 with size 0"
          ]
        }
      ]
    },
    {
      "cell_type": "code",
      "source": [
        "#Generam valorile previzionate\n",
        "predictions = rnn.predict(final_x_test_data)\n",
        "#Afisam datele previzionate\n",
        "plt.clf() #Stergem din canvas plotarea veche\n",
        "plt.plot(prediction, color=\"green\")"
      ],
      "metadata": {
        "id": "ngit1IjfRrkU"
      },
      "execution_count": null,
      "outputs": []
    },
    {
      "cell_type": "code",
      "source": [
        "#Facem scalare valori previzionate si plotam\n",
        "unscaled_predictions = scaler.inverse_transform(predictions)\n",
        "plt.clf()\n",
        "plt.plot(unscaled_predictions, color=\"red\")\n",
        "plt.title('Date previzionate nenormalizate')\n"
      ],
      "metadata": {
        "id": "lbFx_pfyS_12"
      },
      "execution_count": null,
      "outputs": []
    },
    {
      "cell_type": "code",
      "source": [
        "plt.clf()\n",
        "#Datele reale\n",
        "plt.plot(test_data, color = 'blue')\n",
        "plt.title('Date reale')"
      ],
      "metadata": {
        "id": "k8j1GPFeTO-6"
      },
      "execution_count": null,
      "outputs": []
    },
    {
      "cell_type": "code",
      "source": [
        "plt.clf()\n",
        "plt.plot(test_data, color = 'blue')\n",
        "plt.plot(unscaled_predictions, colors=\"red\")\n",
        "plt.title('Comparatie')"
      ],
      "metadata": {
        "id": "kwlySIMgTXIs"
      },
      "execution_count": null,
      "outputs": []
    },
    {
      "cell_type": "code",
      "source": [
        "#Generam valorile previzionate\n",
        "predictions = rnn.predict(final_x_test_data)\n",
        "predictions = predictions + 0.03\n",
        "#Afisam datele previzionate\n",
        "plt.clf() #Stergem din canvas plotarea veche\n",
        "plt.plot(predictions, color = \"green\")"
      ],
      "metadata": {
        "id": "0J0Y9c6ZTf2B"
      },
      "execution_count": null,
      "outputs": []
    },
    {
      "cell_type": "code",
      "source": [
        "plt.clf()\n",
        "plt.plot(test_data, color = 'blue')\n",
        "plt.plot(unscaled_predictions, colors=\"red\")\n",
        "plt.title('Comparatie')"
      ],
      "metadata": {
        "id": "mY2kcojyTxLd"
      },
      "execution_count": null,
      "outputs": []
    },
    {
      "cell_type": "code",
      "source": [
        "from tensorflow.keras.models import Sequential\n",
        "from tensorflow.keras.layers import Dense\n",
        "from tensorflow.keras.layers import LSTM\n",
        "from tensorflow.keras.layers import Dropout\n",
        "\n",
        "#initializam RNN\n",
        "rnn = Sequential()\n",
        "\n",
        "#adaugam primul start LSTM\n",
        "rnn.add(LSTM(units = 45, return_sequences = True, input_shape = (x_training_data.shape[1], 1 )))\n",
        "\n",
        "#facem o regularizare dropout\n",
        "rnn.add(Dropout(0.2))\n",
        "\n",
        "#Adaugam inca 3 straturi LSTM cu regularizare\n",
        "for i in [True, True, False]:\n",
        "  rnn.add(LSTM(units = 45, return_sequences = i))\n",
        "  rnn.add(Dropout(0.2))\n",
        "\n",
        "#Adaugam stratul de iesire\n",
        "rnn.add(Dense(units = 1))\n"
      ],
      "metadata": {
        "id": "0pTzD8WKUInZ"
      },
      "execution_count": null,
      "outputs": []
    },
    {
      "cell_type": "code",
      "source": [
        "#Compilam RNN\n",
        "rnn.compile(optimizer = 'adam', loss = 'mean_squared_error')\n",
        "#Antrenam RNN\n",
        "rnn.fit(x_training_data, y_training_data, epochs = 100, batch_size = 32)\n",
        "\n",
        "#importam setul de date de testare si le transformam in Numpy array\n",
        "test_data = pd.read_csv(\"FB.csv\")\n",
        "test_data = test_data.iloc[:, 1].values\n",
        "\n",
        "#Verificam forma setului\n",
        "print(test_data.shape)\n",
        "plt.plot(test_data)"
      ],
      "metadata": {
        "id": "_BKNmXioUNSF"
      },
      "execution_count": null,
      "outputs": []
    }
  ]
}