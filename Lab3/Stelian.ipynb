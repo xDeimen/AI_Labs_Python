{
 "cells": [
  {
   "cell_type": "code",
   "execution_count": 1,
   "id": "314d35ba-ccfb-497c-8a59-d8f34b269c33",
   "metadata": {
    "tags": []
   },
   "outputs": [
    {
     "data": {
      "text/plain": [
       "3"
      ]
     },
     "execution_count": 1,
     "metadata": {},
     "output_type": "execute_result"
    }
   ],
   "source": [
    "def stelian (x,y):\n",
    "    return x+y-2\n",
    "stelian (2,3)"
   ]
  },
  {
   "cell_type": "code",
   "execution_count": null,
   "id": "abdf8bc9-ee0c-4371-8cbd-c6a4a8089a9e",
   "metadata": {},
   "outputs": [],
   "source": []
  }
 ],
 "metadata": {
  "kernelspec": {
   "display_name": "Python 3 (ipykernel)",
   "language": "python",
   "name": "python3"
  },
  "language_info": {
   "codemirror_mode": {
    "name": "ipython",
    "version": 3
   },
   "file_extension": ".py",
   "mimetype": "text/x-python",
   "name": "python",
   "nbconvert_exporter": "python",
   "pygments_lexer": "ipython3",
   "version": "3.10.7"
  }
 },
 "nbformat": 4,
 "nbformat_minor": 5
}
